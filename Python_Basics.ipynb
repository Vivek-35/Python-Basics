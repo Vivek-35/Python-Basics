{
  "nbformat": 4,
  "nbformat_minor": 0,
  "metadata": {
    "colab": {
      "provenance": []
    },
    "kernelspec": {
      "name": "python3",
      "display_name": "Python 3"
    },
    "language_info": {
      "name": "python"
    }
  },
  "cells": [
    {
      "cell_type": "markdown",
      "source": [
        "#**Python Basics**\n",
        "1. What is Python, and why is it popular?\n",
        "   - Python is an interpreted programming language known for its\n",
        "     simplicity, readability, and versatility. It is popular due to its easy syntax, libraries, strong community support, and wide application in data science, web development, automation, and artificial intelligence.\n",
        "2. What is an interpreter in Python?\n",
        "   - An interpreter in Python is a program that executes Python code line\n",
        "     by line, converting it into machine-readable instructions. It allows for easy debugging and coding.\n",
        "3. What are pre-defined keywords in Python?\n",
        "   - Pre-defined keywords in Python are reserved words that have special\n",
        "     meanings and cannot be used as variable names. Examples include if, else, while, for, def, class, import, and return.\n",
        "4. Can keywords be used as variable names?\n",
        "   - No, keywords cannot be used as variable names in Python because they\n",
        "     are reserved for specific programming functions and syntax. If we use them as variable names then it will show result as a syntax error.\n",
        "5. What is mutability in Python?\n",
        "   - Mutability in Python refers to an object's ability to be changed      after creation. Mutable objects can be modified. For example lists,\n",
        "     dictionaries, sets.\n",
        "6. Why are lists mutable, but tuples are immutable?\n",
        "   - Lists are mutable because they allow modifications such as adding,\n",
        "     removing, or changing elements after creation. This is due to their dynamic memory allocation. On the other hand, Tuples are immutable because they are designed for fixed collections, preventing modifications once created. This makes them more memory-efficient and faster than lists.\n",
        "7. What is the difference between \"==\" and \"is\" operators in Python?\n",
        "   - \"==\" is known as Equality Operator use to checks if two values are\n",
        "      equal in content or not. On the other hand, \"is\" is known as Identity Operator which is use to checks if two variables refer to the same object in memory.\n",
        "      So, \"==\" compares values, while \"is\" compares memory locations.\n",
        "8. What are logical operators in Python?\n",
        "   - Logical operators in Python are used to combine conditional\n",
        "     statements. The three main logical operators are:\n",
        "    - \"and\" -> Returns True if both conditions are true.\n",
        "    - \"or\" -> Returns True if at least one condition is true.\n",
        "    - \"not\" -> Reverses the boolean value of a condition.\n",
        "9. What is type casting in python?\n",
        "   - Type casting in Python is the process of converting one data type\n",
        "     into another. It can be done using built-in functions like:\n",
        "\n",
        "    - int() -> Converts to an integer\n",
        "    - float() -> Converts to a float\n",
        "    - str() -> Converts to a string\n",
        "    - list() -> Converts to a list\n",
        "    - tuple() -> Converts to a tuple\n",
        "10. What is the difference between implicit and explicit type casting?\n",
        "    -  Implicit Type Casting (Automatic)\n",
        "\n",
        "      - Python automatically converts a smaller data type to a larger one\n",
        "        to avoid data loss.\n",
        "      - No manual intervention is needed.\n",
        "      \n",
        "    - Explicit Type Casting (Manual)\n",
        "\n",
        "      - The programmer manually converts a data type using functions like\n",
        "        int(), float(), str(), etc.\n",
        "      - Used when Python does not automatically convert types.\n",
        "11. What is the purpose of conditional statements in Python?\n",
        "    - In Python conditional statements like if, elif, and else control\n",
        "      the program's flow by executing specific code blocks based on whether given conditions are true or false. This enables decision-making within the code, allowing it to respond differently to various inputs or situations.\n",
        "12. How does the elif statement work?\n",
        "    - The elif statement is also known as \"else if,\" which allows to\n",
        "      check multiple conditions sequentially after an initial \"if\" statement.  If the previous \"if\" condition evaluates to False, the program evaluates the \"elif\" condition. If this \"elif\" condition is True, its associated code block will execute. Otherwise, the program continues to next sequential \"elif\" statements or an optional \"else\" block.\n",
        "13. What is the difference between \"For\" and \"While\" loops?\n",
        "    - In Python, both for and while loops are used to execute a block of\n",
        "      code multiple times,\n",
        "       - Iteration Control -> for loops automatically handle the iteration\n",
        "         over sequences, making them straightforward for fixed iterations. In contrast, while loops require manual control of the loop variable and condition, providing flexibility for dynamic scenarios.\n",
        "\n",
        "       - Use Cases -> Use for loops when we need to iterate over elements\n",
        "         of a collection or a known range. Use while loops when the loop's continuation depends on a condition that may change in an unpredictable manner during execution.\n",
        "14. Describe a scenario where a \"while\" loop is more suitable than a \"for\"\n",
        "     loop?\n",
        "    - A \"while\" loop is more suitable than a \"for\" loop in scenarios where\n",
        "      the number of iterations isn't predetermined and depends on dynamic conditions during runtime. For example, when prompting a user to guess a secret number, you can't know in advance how many attempts they'll need. A \"while\" loop allows the program to continue accepting guesses until the correct number is entered.\n",
        "      "
      ],
      "metadata": {
        "id": "OUENJCqtRbUS"
      }
    },
    {
      "cell_type": "code",
      "source": [
        "secret_number = 7\n",
        "guess = None\n",
        "\n",
        "while guess != secret_number:\n",
        "    guess = int(input(\"Guess the secret number: \"))\n",
        "    if guess < secret_number:\n",
        "        print(\"Too low, try again.\")\n",
        "    elif guess > secret_number:\n",
        "        print(\"Too high, try again.\")\n",
        "\n",
        "print(\"Congratulations! You've guessed the secret number.\")\n"
      ],
      "metadata": {
        "colab": {
          "base_uri": "https://localhost:8080/"
        },
        "id": "LXf4Ezhz91Nw",
        "outputId": "9d381ede-8d41-4227-8b13-4f3a68ad2efa"
      },
      "execution_count": 1,
      "outputs": [
        {
          "output_type": "stream",
          "name": "stdout",
          "text": [
            "Guess the secret number: 5\n",
            "Too low, try again.\n",
            "Guess the secret number: 7\n",
            "Congratulations! You've guessed the secret number.\n"
          ]
        }
      ]
    },
    {
      "cell_type": "markdown",
      "source": [
        "   In this example, the loop continues to prompt the user for input until they guess the correct number, making a \"while\" loop the appropriate choice."
      ],
      "metadata": {
        "id": "PLIetxRC-HhA"
      }
    },
    {
      "cell_type": "markdown",
      "source": [
        "# **Practical Questions**\n",
        "1. Write a Python program to print \"Hello, World!\".\n",
        "   "
      ],
      "metadata": {
        "id": "8TvKNIxC-vXh"
      }
    },
    {
      "cell_type": "code",
      "source": [
        "print(\"Hello, World!\")"
      ],
      "metadata": {
        "colab": {
          "base_uri": "https://localhost:8080/"
        },
        "id": "j-Xd84Bp-Pgq",
        "outputId": "03b9207a-0271-4d63-901a-db2328d0e098"
      },
      "execution_count": 2,
      "outputs": [
        {
          "output_type": "stream",
          "name": "stdout",
          "text": [
            "Hello, World!\n"
          ]
        }
      ]
    },
    {
      "cell_type": "markdown",
      "source": [
        "2. Write a Python program that displays your name and age."
      ],
      "metadata": {
        "id": "2zqHGRl9NjDA"
      }
    },
    {
      "cell_type": "code",
      "source": [
        "name = \"Vivek Kumar\"\n",
        "age = 26\n",
        "\n",
        "print(\"Name:\", name)\n",
        "print(\"Age:\", age)"
      ],
      "metadata": {
        "colab": {
          "base_uri": "https://localhost:8080/"
        },
        "id": "Nk5wa1HYN77Q",
        "outputId": "3ab70978-cecf-43a5-a383-898e8c6c4ee8"
      },
      "execution_count": 2,
      "outputs": [
        {
          "output_type": "stream",
          "name": "stdout",
          "text": [
            "Name: Vivek Kumar\n",
            "Age: 26\n"
          ]
        }
      ]
    },
    {
      "cell_type": "markdown",
      "source": [
        "3. Write code to print all the pre-defined keywords in Python using the\n",
        "   keyword library."
      ],
      "metadata": {
        "id": "fL3_p9kVd5tG"
      }
    },
    {
      "cell_type": "code",
      "source": [
        "import keyword\n",
        "keywords = keyword.kwlist\n",
        "print(\"Python Keywords:\")\n",
        "for kw in keywords:\n",
        "    print(kw)"
      ],
      "metadata": {
        "colab": {
          "base_uri": "https://localhost:8080/"
        },
        "id": "Gv2wKrI1ehPs",
        "outputId": "ca9287c7-0b63-4187-dfc6-29d814cc5b58"
      },
      "execution_count": 4,
      "outputs": [
        {
          "output_type": "stream",
          "name": "stdout",
          "text": [
            "Python Keywords:\n",
            "False\n",
            "None\n",
            "True\n",
            "and\n",
            "as\n",
            "assert\n",
            "async\n",
            "await\n",
            "break\n",
            "class\n",
            "continue\n",
            "def\n",
            "del\n",
            "elif\n",
            "else\n",
            "except\n",
            "finally\n",
            "for\n",
            "from\n",
            "global\n",
            "if\n",
            "import\n",
            "in\n",
            "is\n",
            "lambda\n",
            "nonlocal\n",
            "not\n",
            "or\n",
            "pass\n",
            "raise\n",
            "return\n",
            "try\n",
            "while\n",
            "with\n",
            "yield\n"
          ]
        }
      ]
    },
    {
      "cell_type": "markdown",
      "source": [
        "4. Write a program that checks if a given word is a Python keyword."
      ],
      "metadata": {
        "id": "pcHFReVOgdtS"
      }
    },
    {
      "cell_type": "code",
      "source": [
        "import keyword\n",
        "word = input(\"Enter a word: \")\n",
        "if keyword.iskeyword(word):\n",
        "    print(f\"'{word}' is a Python keyword.\")\n",
        "else:\n",
        "    print(f\"'{word}' is not a Python keyword.\")"
      ],
      "metadata": {
        "colab": {
          "base_uri": "https://localhost:8080/"
        },
        "id": "VHobxdZMg8x0",
        "outputId": "443c7004-3780-43cc-f605-5e7d2ea53faa"
      },
      "execution_count": 7,
      "outputs": [
        {
          "output_type": "stream",
          "name": "stdout",
          "text": [
            "Enter a word: continue\n",
            "'continue' is a Python keyword.\n"
          ]
        }
      ]
    },
    {
      "cell_type": "markdown",
      "source": [
        "5. Create list and tuple in Python, and demonstrate how attempting to\n",
        "   change an element works differently for each."
      ],
      "metadata": {
        "id": "9y5c5hZtjVXO"
      }
    },
    {
      "cell_type": "code",
      "source": [
        "# Creating a list\n",
        "my_list = [1, 2, 3]\n",
        "print(\"Original list:\", my_list)\n",
        "\n",
        "# Modifying the first element of the list\n",
        "my_list[0] = 10\n",
        "print(\"Modified list:\", my_list)\n",
        "\n",
        "# Creating a tuple\n",
        "my_tuple = (1, 2, 3)\n",
        "print(\"\\nOriginal tuple:\", my_tuple)\n",
        "\n",
        "# Attempting to modify the first element of the tuple\n",
        "try:\n",
        "    my_tuple[0] = 10\n",
        "except TypeError as e:\n",
        "    print(\"Error:\", e)\n"
      ],
      "metadata": {
        "colab": {
          "base_uri": "https://localhost:8080/"
        },
        "id": "91cUO4AZ57cK",
        "outputId": "4e45a3a7-08f0-49da-c812-b8c37d91fe9e"
      },
      "execution_count": 8,
      "outputs": [
        {
          "output_type": "stream",
          "name": "stdout",
          "text": [
            "Original list: [1, 2, 3]\n",
            "Modified list: [10, 2, 3]\n",
            "\n",
            "Original tuple: (1, 2, 3)\n",
            "Error: 'tuple' object does not support item assignment\n"
          ]
        }
      ]
    },
    {
      "cell_type": "markdown",
      "source": [
        "6. Write a function to demonstrate the behavior of mutable and immutable\n",
        "   arguments."
      ],
      "metadata": {
        "id": "yqsCvJic7jIm"
      }
    },
    {
      "cell_type": "code",
      "source": [
        "def modify_immutable(x):\n",
        "    x += 1\n",
        "    print(f\"Inside modify_immutable: x = {x}\")\n",
        "\n",
        "def modify_mutable(lst):\n",
        "    lst.append(4)\n",
        "    print(f\"Inside modify_mutable: lst = {lst}\")\n",
        "\n",
        "# Immutable example\n",
        "a = 10\n",
        "print(f\"Before modify_immutable: a = {a}\")\n",
        "modify_immutable(a)\n",
        "print(f\"After modify_immutable: a = {a}\\n\")\n",
        "\n",
        "# Mutable example\n",
        "b = [1, 2, 3]\n",
        "print(f\"Before modify_mutable: b = {b}\")\n",
        "modify_mutable(b)\n",
        "print(f\"After modify_mutable: b = {b}\")\n"
      ],
      "metadata": {
        "colab": {
          "base_uri": "https://localhost:8080/"
        },
        "id": "LnCtUqAH8AGs",
        "outputId": "88930bde-2933-4d5d-a2ed-1fe45093e7eb"
      },
      "execution_count": 1,
      "outputs": [
        {
          "output_type": "stream",
          "name": "stdout",
          "text": [
            "Before modify_immutable: a = 10\n",
            "Inside modify_immutable: x = 11\n",
            "After modify_immutable: a = 10\n",
            "\n",
            "Before modify_mutable: b = [1, 2, 3]\n",
            "Inside modify_mutable: lst = [1, 2, 3, 4]\n",
            "After modify_mutable: b = [1, 2, 3, 4]\n"
          ]
        }
      ]
    },
    {
      "cell_type": "markdown",
      "source": [
        "7. Write a program to demonstrate the use of logical operators."
      ],
      "metadata": {
        "id": "y5YiCVboNyon"
      }
    },
    {
      "cell_type": "code",
      "source": [
        "# Define variables\n",
        "a = 5\n",
        "b = 10\n",
        "c = 0\n",
        "\n",
        "# Using 'and' operator\n",
        "if a > 0 and b > 0:\n",
        "    print(\"Both a and b are positive numbers.\")\n",
        "else:\n",
        "    print(\"At least one of a or b is not positive.\")\n",
        "\n",
        "# Using 'or' operator\n",
        "if a > 0 or c > 0:\n",
        "    print(\"At least one of a or c is a positive number.\")\n",
        "else:\n",
        "    print(\"Neither a nor c is a positive number.\")\n",
        "\n",
        "# Using 'not' operator\n",
        "if not c:\n",
        "    print(\"c is zero or False.\")\n",
        "else:\n",
        "    print(\"c is non-zero or True.\")\n"
      ],
      "metadata": {
        "colab": {
          "base_uri": "https://localhost:8080/"
        },
        "id": "2WW74tFiOZTm",
        "outputId": "f1348115-1a71-46fd-b035-e001c7a17ae7"
      },
      "execution_count": 2,
      "outputs": [
        {
          "output_type": "stream",
          "name": "stdout",
          "text": [
            "Both a and b are positive numbers.\n",
            "At least one of a or c is a positive number.\n",
            "c is zero or False.\n"
          ]
        }
      ]
    },
    {
      "cell_type": "markdown",
      "source": [
        "8. Write a Python program to convert user input from string to integer,\n",
        "   float and boolean types."
      ],
      "metadata": {
        "id": "9yq9g3rRPoXN"
      }
    },
    {
      "cell_type": "code",
      "source": [
        "def convert_input(user_input):\n",
        "    try:\n",
        "        # Attempt to convert to integer\n",
        "        int_value = int(user_input)\n",
        "        print(f\"Integer conversion successful: {int_value}\")\n",
        "    except ValueError:\n",
        "        print(\"Conversion to integer failed.\")\n",
        "\n",
        "    try:\n",
        "        # Attempt to convert to float\n",
        "        float_value = float(user_input)\n",
        "        print(f\"Float conversion successful: {float_value}\")\n",
        "    except ValueError:\n",
        "        print(\"Conversion to float failed.\")\n",
        "\n",
        "    # Convert to boolean\n",
        "    bool_value = bool(user_input)\n",
        "    print(f\"Boolean conversion result: {bool_value}\")\n",
        "\n",
        "# Example usage\n",
        "user_input = input(\"Enter a value: \")\n",
        "convert_input(user_input)\n"
      ],
      "metadata": {
        "colab": {
          "base_uri": "https://localhost:8080/"
        },
        "id": "iAeiOSPXQQD-",
        "outputId": "d4831ca9-5449-4f9c-e2eb-d32ccc1e86a0"
      },
      "execution_count": 7,
      "outputs": [
        {
          "output_type": "stream",
          "name": "stdout",
          "text": [
            "Enter a value: 780\n",
            "Integer conversion successful: 780\n",
            "Float conversion successful: 780.0\n",
            "Boolean conversion result: True\n"
          ]
        }
      ]
    },
    {
      "cell_type": "markdown",
      "source": [
        "9. Write code to demonstrate type casting with list elements."
      ],
      "metadata": {
        "id": "MYw66OYERYk0"
      }
    },
    {
      "cell_type": "code",
      "source": [
        "# Original list with string representations of numbers\n",
        "string_list = ['1', '2', '3', '4', '5']\n",
        "\n",
        "# Convert each element to an integer\n",
        "int_list = [int(item) for item in string_list]\n",
        "\n",
        "print(\"Original list:\", string_list)\n",
        "print(\"Converted to integers:\", int_list)\n"
      ],
      "metadata": {
        "colab": {
          "base_uri": "https://localhost:8080/"
        },
        "id": "FhAZ9EF-RmxC",
        "outputId": "a7329938-1656-4681-a0d3-d18d8ba8add3"
      },
      "execution_count": 8,
      "outputs": [
        {
          "output_type": "stream",
          "name": "stdout",
          "text": [
            "Original list: ['1', '2', '3', '4', '5']\n",
            "Converted to integers: [1, 2, 3, 4, 5]\n"
          ]
        }
      ]
    },
    {
      "cell_type": "markdown",
      "source": [
        "10. Write a program that checks if a number is positive, negative or zero."
      ],
      "metadata": {
        "id": "Is3CABrwSX3x"
      }
    },
    {
      "cell_type": "code",
      "source": [
        "number = float(input(\"Enter a number: \"))\n",
        "\n",
        "if number > 0:\n",
        "    print(\"The number is positive.\")\n",
        "elif number < 0:\n",
        "    print(\"The number is negative.\")\n",
        "else:\n",
        "    print(\"The number is zero.\")"
      ],
      "metadata": {
        "colab": {
          "base_uri": "https://localhost:8080/"
        },
        "id": "IDGxVdZdS0-f",
        "outputId": "989cfc99-2923-4479-f8d9-57fa5cd7e07a"
      },
      "execution_count": 11,
      "outputs": [
        {
          "output_type": "stream",
          "name": "stdout",
          "text": [
            "Enter a number: -89\n",
            "The number is negative.\n"
          ]
        }
      ]
    },
    {
      "cell_type": "markdown",
      "source": [
        "11. Write a for loop to print numbers from 0 to 10."
      ],
      "metadata": {
        "id": "el0ArjUVTVoN"
      }
    },
    {
      "cell_type": "code",
      "source": [
        "for i in range(11):\n",
        "    print(i)"
      ],
      "metadata": {
        "colab": {
          "base_uri": "https://localhost:8080/"
        },
        "id": "EKP0LozGTrj5",
        "outputId": "7b3e80ff-9adc-43a9-967f-b6c9245558b1"
      },
      "execution_count": 12,
      "outputs": [
        {
          "output_type": "stream",
          "name": "stdout",
          "text": [
            "0\n",
            "1\n",
            "2\n",
            "3\n",
            "4\n",
            "5\n",
            "6\n",
            "7\n",
            "8\n",
            "9\n",
            "10\n"
          ]
        }
      ]
    },
    {
      "cell_type": "markdown",
      "source": [
        "12. Write a Python program to find the sum of all even numbers between 1\n",
        "     and 50."
      ],
      "metadata": {
        "id": "9tWSLTCST4OM"
      }
    },
    {
      "cell_type": "code",
      "source": [
        "sum_of_evens = 0\n",
        "\n",
        "for number in range(2, 51, 2):\n",
        "    sum_of_evens += number\n",
        "\n",
        "print(\"The sum of all even numbers between 1 and 50 is:\", sum_of_evens)\n"
      ],
      "metadata": {
        "colab": {
          "base_uri": "https://localhost:8080/"
        },
        "id": "FPqB3q-eUTSI",
        "outputId": "1426217d-9961-42ab-8ca5-e6193da32586"
      },
      "execution_count": 13,
      "outputs": [
        {
          "output_type": "stream",
          "name": "stdout",
          "text": [
            "The sum of all even numbers between 1 and 50 is: 650\n"
          ]
        }
      ]
    },
    {
      "cell_type": "markdown",
      "source": [
        "13. Write a program to revcerse a string using a while loop."
      ],
      "metadata": {
        "id": "VDLalHAJU2uw"
      }
    },
    {
      "cell_type": "code",
      "source": [
        "# Function to reverse a string using a while loop\n",
        "def reverse_string(input_string):\n",
        "    # Initialize an empty string to store the reversed version\n",
        "    reversed_string = ''\n",
        "    # Get the index of the last character\n",
        "    index = len(input_string) - 1\n",
        "    # Loop until the index is negative\n",
        "    while index >= 0:\n",
        "        # Append the current character to the reversed string\n",
        "        reversed_string += input_string[index]\n",
        "        # Move to the previous character\n",
        "        index -= 1\n",
        "    return reversed_string\n",
        "\n",
        "# Example usage\n",
        "original_string = \"Hello, World!\"\n",
        "reversed_string = reverse_string(original_string)\n",
        "print(\"Original String:\", original_string)\n",
        "print(\"Reversed String:\", reversed_string)\n"
      ],
      "metadata": {
        "colab": {
          "base_uri": "https://localhost:8080/"
        },
        "id": "M6RKPDJsVG3G",
        "outputId": "e747a209-7452-4fef-8b2d-1b1f0f4e0655"
      },
      "execution_count": 14,
      "outputs": [
        {
          "output_type": "stream",
          "name": "stdout",
          "text": [
            "Original String: Hello, World!\n",
            "Reversed String: !dlroW ,olleH\n"
          ]
        }
      ]
    },
    {
      "cell_type": "markdown",
      "source": [
        "14. Write a Python program to calculate the factorial of a number provided\n",
        "     by the user using a while loop."
      ],
      "metadata": {
        "id": "XznQheRgVhBE"
      }
    },
    {
      "cell_type": "code",
      "source": [
        "# Prompt the user to enter a non-negative integer\n",
        "num = int(input(\"Enter a non-negative integer: \"))\n",
        "\n",
        "# Ensure the input is non-negative\n",
        "if num < 0:\n",
        "    print(\"Factorial is not defined for negative numbers.\")\n",
        "else:\n",
        "    # Initialize the factorial result to 1\n",
        "    factorial = 1\n",
        "    # Initialize a counter variable\n",
        "    i = num\n",
        "    # Calculate the factorial using a while loop\n",
        "    while i > 1:\n",
        "        factorial *= i\n",
        "        i -= 1\n",
        "    # Display the result\n",
        "    print(f\"The factorial of {num} is {factorial}.\")\n"
      ],
      "metadata": {
        "colab": {
          "base_uri": "https://localhost:8080/"
        },
        "id": "xocXiH9jVfrl",
        "outputId": "935802cc-8441-4672-a723-20ca3e16f38f"
      },
      "execution_count": 20,
      "outputs": [
        {
          "output_type": "stream",
          "name": "stdout",
          "text": [
            "Enter a non-negative integer: 5\n",
            "The factorial of 5 is 120.\n"
          ]
        }
      ]
    }
  ]
}